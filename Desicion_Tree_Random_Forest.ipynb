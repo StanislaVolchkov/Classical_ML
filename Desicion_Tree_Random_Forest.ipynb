{
  "nbformat": 4,
  "nbformat_minor": 5,
  "metadata": {
    "kernelspec": {
      "display_name": "Python 3",
      "language": "python",
      "name": "python3"
    },
    "language_info": {
      "codemirror_mode": {
        "name": "ipython",
        "version": 3
      },
      "file_extension": ".py",
      "mimetype": "text/x-python",
      "name": "python",
      "nbconvert_exporter": "python",
      "pygments_lexer": "ipython3",
      "version": "3.8.8"
    },
    "colab": {
      "name": "Desicion Tree / Random Forest",
      "provenance": [],
      "toc_visible": true
    }
  },
  "cells": [
    {
      "cell_type": "code",
      "metadata": {
        "id": "1d6ad9ca"
      },
      "source": [
        "from sklearn import tree\n",
        "import pandas as pd\n",
        "import matplotlib.pyplot as plt\n",
        "import seaborn as sns\n",
        "import numpy as np"
      ],
      "id": "1d6ad9ca",
      "execution_count": 1,
      "outputs": []
    },
    {
      "cell_type": "code",
      "metadata": {
        "colab": {
          "base_uri": "https://localhost:8080/",
          "height": 299
        },
        "id": "05e39263",
        "outputId": "346ff331-8616-4040-a541-e84c6182564a"
      },
      "source": [
        "dogs = pd.read_csv(\"https://stepik.org/media/attachments/course/4852/dogs.csv\", index_col=1)\n",
        "\n",
        "dogs_X = dogs.iloc[:, :3]\n",
        "dogs_y = dogs.iloc[:, 3]\n",
        "\n",
        "dogs_clf = tree.DecisionTreeClassifier(criterion='entropy', random_state=0)\n",
        "dogs_clf.fit(dogs_X, dogs_y)\n",
        "\n",
        "tree.plot_tree(dogs_clf, filled=True, feature_names=dogs_X.columns)"
      ],
      "id": "05e39263",
      "execution_count": 2,
      "outputs": [
        {
          "output_type": "execute_result",
          "data": {
            "text/plain": [
              "[Text(167.4, 163.07999999999998, 'Гавкает <= 0.5\\nentropy = 1.0\\nsamples = 8\\nvalue = [4, 4]'),\n",
              " Text(83.7, 54.360000000000014, 'entropy = 0.0\\nsamples = 4\\nvalue = [4, 0]'),\n",
              " Text(251.10000000000002, 54.360000000000014, 'entropy = 0.0\\nsamples = 4\\nvalue = [0, 4]')]"
            ]
          },
          "metadata": {},
          "execution_count": 2
        },
        {
          "output_type": "display_data",
          "data": {
            "image/png": "[encoded data removed]",
            "text/plain": [
              "<Figure size 432x288 with 1 Axes>"
            ]
          },
          "metadata": {
            "needs_background": "light"
          }
        }
      ]
    },
    {
      "cell_type": "code",
      "metadata": {
        "id": "9af678e0",
        "outputId": "f0dacf4a-219f-45b9-97d6-65dda0bf12d3"
      },
      "source": [
        "titanic_data = pd.read_csv('C:/Users/user/Downloads/train.csv')\n",
        "titanic_data.head()"
      ],
      "id": "9af678e0",
      "execution_count": null,
      "outputs": [
        {
          "data": {
            "text/html": [
              "<div>\n",
              "<style scoped>\n",
              "    .dataframe tbody tr th:only-of-type {\n",
              "        vertical-align: middle;\n",
              "    }\n",
              "\n",
              "    .dataframe tbody tr th {\n",
              "        vertical-align: top;\n",
              "    }\n",
              "\n",
              "    .dataframe thead th {\n",
              "        text-align: right;\n",
              "    }\n",
              "</style>\n",
              "<table border=\"1\" class=\"dataframe\">\n",
              "  <thead>\n",
              "    <tr style=\"text-align: right;\">\n",
              "      <th></th>\n",
              "      <th>PassengerId</th>\n",
              "      <th>Survived</th>\n",
              "      <th>Pclass</th>\n",
              "      <th>Name</th>\n",
              "      <th>Sex</th>\n",
              "      <th>Age</th>\n",
              "      <th>SibSp</th>\n",
              "      <th>Parch</th>\n",
              "      <th>Ticket</th>\n",
              "      <th>Fare</th>\n",
              "      <th>Cabin</th>\n",
              "      <th>Embarked</th>\n",
              "    </tr>\n",
              "  </thead>\n",
              "  <tbody>\n",
              "    <tr>\n",
              "      <th>0</th>\n",
              "      <td>1</td>\n",
              "      <td>0</td>\n",
              "      <td>3</td>\n",
              "      <td>Braund, Mr. Owen Harris</td>\n",
              "      <td>male</td>\n",
              "      <td>22.0</td>\n",
              "      <td>1</td>\n",
              "      <td>0</td>\n",
              "      <td>A/5 21171</td>\n",
              "      <td>7.2500</td>\n",
              "      <td>NaN</td>\n",
              "      <td>S</td>\n",
              "    </tr>\n",
              "    <tr>\n",
              "      <th>1</th>\n",
              "      <td>2</td>\n",
              "      <td>1</td>\n",
              "      <td>1</td>\n",
              "      <td>Cumings, Mrs. John Bradley (Florence Briggs Th...</td>\n",
              "      <td>female</td>\n",
              "      <td>38.0</td>\n",
              "      <td>1</td>\n",
              "      <td>0</td>\n",
              "      <td>PC 17599</td>\n",
              "      <td>71.2833</td>\n",
              "      <td>C85</td>\n",
              "      <td>C</td>\n",
              "    </tr>\n",
              "    <tr>\n",
              "      <th>2</th>\n",
              "      <td>3</td>\n",
              "      <td>1</td>\n",
              "      <td>3</td>\n",
              "      <td>Heikkinen, Miss. Laina</td>\n",
              "      <td>female</td>\n",
              "      <td>26.0</td>\n",
              "      <td>0</td>\n",
              "      <td>0</td>\n",
              "      <td>STON/O2. 3101282</td>\n",
              "      <td>7.9250</td>\n",
              "      <td>NaN</td>\n",
              "      <td>S</td>\n",
              "    </tr>\n",
              "    <tr>\n",
              "      <th>3</th>\n",
              "      <td>4</td>\n",
              "      <td>1</td>\n",
              "      <td>1</td>\n",
              "      <td>Futrelle, Mrs. Jacques Heath (Lily May Peel)</td>\n",
              "      <td>female</td>\n",
              "      <td>35.0</td>\n",
              "      <td>1</td>\n",
              "      <td>0</td>\n",
              "      <td>113803</td>\n",
              "      <td>53.1000</td>\n",
              "      <td>C123</td>\n",
              "      <td>S</td>\n",
              "    </tr>\n",
              "    <tr>\n",
              "      <th>4</th>\n",
              "      <td>5</td>\n",
              "      <td>0</td>\n",
              "      <td>3</td>\n",
              "      <td>Allen, Mr. William Henry</td>\n",
              "      <td>male</td>\n",
              "      <td>35.0</td>\n",
              "      <td>0</td>\n",
              "      <td>0</td>\n",
              "      <td>373450</td>\n",
              "      <td>8.0500</td>\n",
              "      <td>NaN</td>\n",
              "      <td>S</td>\n",
              "    </tr>\n",
              "  </tbody>\n",
              "</table>\n",
              "</div>"
            ],
            "text/plain": [
              "   PassengerId  Survived  Pclass  \\\n",
              "0            1         0       3   \n",
              "1            2         1       1   \n",
              "2            3         1       3   \n",
              "3            4         1       1   \n",
              "4            5         0       3   \n",
              "\n",
              "                                                Name     Sex   Age  SibSp  \\\n",
              "0                            Braund, Mr. Owen Harris    male  22.0      1   \n",
              "1  Cumings, Mrs. John Bradley (Florence Briggs Th...  female  38.0      1   \n",
              "2                             Heikkinen, Miss. Laina  female  26.0      0   \n",
              "3       Futrelle, Mrs. Jacques Heath (Lily May Peel)  female  35.0      1   \n",
              "4                           Allen, Mr. William Henry    male  35.0      0   \n",
              "\n",
              "   Parch            Ticket     Fare Cabin Embarked  \n",
              "0      0         A/5 21171   7.2500   NaN        S  \n",
              "1      0          PC 17599  71.2833   C85        C  \n",
              "2      0  STON/O2. 3101282   7.9250   NaN        S  \n",
              "3      0            113803  53.1000  C123        S  \n",
              "4      0            373450   8.0500   NaN        S  "
            ]
          },
          "execution_count": 99,
          "metadata": {},
          "output_type": "execute_result"
        }
      ]
    },
    {
      "cell_type": "code",
      "metadata": {
        "id": "3b7dd12e",
        "outputId": "3f3fa48f-8c5e-4895-b806-d9e20519d55c"
      },
      "source": [
        "titanic_data.isnull().sum()"
      ],
      "id": "3b7dd12e",
      "execution_count": null,
      "outputs": [
        {
          "data": {
            "text/plain": [
              "PassengerId      0\n",
              "Survived         0\n",
              "Pclass           0\n",
              "Name             0\n",
              "Sex              0\n",
              "Age            177\n",
              "SibSp            0\n",
              "Parch            0\n",
              "Ticket           0\n",
              "Fare             0\n",
              "Cabin          687\n",
              "Embarked         2\n",
              "dtype: int64"
            ]
          },
          "execution_count": 5,
          "metadata": {},
          "output_type": "execute_result"
        }
      ]
    },
    {
      "cell_type": "code",
      "metadata": {
        "id": "43c19e4d"
      },
      "source": [
        "X = titanic_data.drop(['PassengerId','Name','Cabin','Survived','Ticket'],axis=1)\n",
        "y = titanic_data.Survived\n",
        "X = pd.get_dummies(X)\n",
        "X = X.fillna({'Age':X.Age.median()})"
      ],
      "id": "43c19e4d",
      "execution_count": null,
      "outputs": []
    },
    {
      "cell_type": "code",
      "metadata": {
        "id": "62f1174c"
      },
      "source": [
        "from sklearn.model_selection import train_test_split"
      ],
      "id": "62f1174c",
      "execution_count": null,
      "outputs": []
    },
    {
      "cell_type": "code",
      "metadata": {
        "id": "71055aff"
      },
      "source": [
        "X_train, X_test, y_train, y_test = train_test_split(X,y,test_size=0.33, random_state=42)"
      ],
      "id": "71055aff",
      "execution_count": null,
      "outputs": []
    },
    {
      "cell_type": "code",
      "metadata": {
        "id": "df64817b"
      },
      "source": [
        "clf = tree.DecisionTreeClassifier(criterion = 'entropy', max_depth=3)"
      ],
      "id": "df64817b",
      "execution_count": null,
      "outputs": []
    },
    {
      "cell_type": "code",
      "metadata": {
        "id": "121c69c7",
        "outputId": "7b49a6c4-155f-4a56-f9dc-ccf41e11213d"
      },
      "source": [
        "clf.fit(X_train,y_train)"
      ],
      "id": "121c69c7",
      "execution_count": null,
      "outputs": [
        {
          "data": {
            "text/plain": [
              "DecisionTreeClassifier(criterion='entropy', max_depth=3)"
            ]
          },
          "execution_count": 11,
          "metadata": {},
          "output_type": "execute_result"
        }
      ]
    },
    {
      "cell_type": "code",
      "metadata": {
        "id": "7ab4d898",
        "outputId": "4f1a49e4-053e-41e5-d97d-274c8f3178fd"
      },
      "source": [
        "clf.score(X_test,y_test)"
      ],
      "id": "7ab4d898",
      "execution_count": null,
      "outputs": [
        {
          "data": {
            "text/plain": [
              "0.8203389830508474"
            ]
          },
          "execution_count": 12,
          "metadata": {},
          "output_type": "execute_result"
        }
      ]
    },
    {
      "cell_type": "code",
      "metadata": {
        "id": "a37d8ae5"
      },
      "source": [
        "max_depth_values = range(1,100)"
      ],
      "id": "a37d8ae5",
      "execution_count": null,
      "outputs": []
    },
    {
      "cell_type": "code",
      "metadata": {
        "id": "0774532e"
      },
      "source": [
        "from sklearn.model_selection import cross_val_score"
      ],
      "id": "0774532e",
      "execution_count": null,
      "outputs": []
    },
    {
      "cell_type": "code",
      "metadata": {
        "id": "ca4e50fb"
      },
      "source": [
        "scores_data = pd.DataFrame()\n",
        "for max_depth in max_depth_values:\n",
        "        clf = tree.DecisionTreeClassifier(criterion = 'entropy', max_depth=max_depth)\n",
        "        clf.fit(X_train,y_train)\n",
        "        train_score = clf.score(X_train,y_train)\n",
        "        test_score = clf.score(X_test,y_test)\n",
        "        \n",
        "        mean_cross_val_score = cross_val_score(clf,X_train,y_train,cv=5).mean()\n",
        "        temp_scores_data = pd.DataFrame({'max_depth':[max_depth],\n",
        "                                         'train_score':[train_score],\n",
        "                                         'test_score':[test_score],\n",
        "                                        'mean_cross_val_score':[mean_cross_val_score]})\n",
        "        \n",
        "        scores_data = scores_data.append(temp_scores_data,ignore_index=True)"
      ],
      "id": "ca4e50fb",
      "execution_count": null,
      "outputs": []
    },
    {
      "cell_type": "code",
      "metadata": {
        "id": "3f2d51f0",
        "outputId": "d8ef1188-0581-450e-afda-cff575e8aaa8"
      },
      "source": [
        "scores_data.shape"
      ],
      "id": "3f2d51f0",
      "execution_count": null,
      "outputs": [
        {
          "data": {
            "text/plain": [
              "(99, 4)"
            ]
          },
          "execution_count": 33,
          "metadata": {},
          "output_type": "execute_result"
        }
      ]
    },
    {
      "cell_type": "code",
      "metadata": {
        "id": "0754f2d7",
        "outputId": "80cf08b3-2bca-4246-89ac-62d173495d51"
      },
      "source": [
        "scores_data_long.query(\"set_type == 'mean_cross_val_score'\").head(9)"
      ],
      "id": "0754f2d7",
      "execution_count": null,
      "outputs": [
        {
          "data": {
            "text/html": [
              "<div>\n",
              "<style scoped>\n",
              "    .dataframe tbody tr th:only-of-type {\n",
              "        vertical-align: middle;\n",
              "    }\n",
              "\n",
              "    .dataframe tbody tr th {\n",
              "        vertical-align: top;\n",
              "    }\n",
              "\n",
              "    .dataframe thead th {\n",
              "        text-align: right;\n",
              "    }\n",
              "</style>\n",
              "<table border=\"1\" class=\"dataframe\">\n",
              "  <thead>\n",
              "    <tr style=\"text-align: right;\">\n",
              "      <th></th>\n",
              "      <th>max_depth</th>\n",
              "      <th>set_type</th>\n",
              "      <th>score</th>\n",
              "    </tr>\n",
              "  </thead>\n",
              "  <tbody>\n",
              "    <tr>\n",
              "      <th>198</th>\n",
              "      <td>1</td>\n",
              "      <td>mean_cross_val_score</td>\n",
              "      <td>0.781961</td>\n",
              "    </tr>\n",
              "    <tr>\n",
              "      <th>199</th>\n",
              "      <td>2</td>\n",
              "      <td>mean_cross_val_score</td>\n",
              "      <td>0.770196</td>\n",
              "    </tr>\n",
              "    <tr>\n",
              "      <th>200</th>\n",
              "      <td>3</td>\n",
              "      <td>mean_cross_val_score</td>\n",
              "      <td>0.790322</td>\n",
              "    </tr>\n",
              "    <tr>\n",
              "      <th>201</th>\n",
              "      <td>4</td>\n",
              "      <td>mean_cross_val_score</td>\n",
              "      <td>0.788627</td>\n",
              "    </tr>\n",
              "    <tr>\n",
              "      <th>202</th>\n",
              "      <td>5</td>\n",
              "      <td>mean_cross_val_score</td>\n",
              "      <td>0.802073</td>\n",
              "    </tr>\n",
              "    <tr>\n",
              "      <th>203</th>\n",
              "      <td>6</td>\n",
              "      <td>mean_cross_val_score</td>\n",
              "      <td>0.803754</td>\n",
              "    </tr>\n",
              "    <tr>\n",
              "      <th>204</th>\n",
              "      <td>7</td>\n",
              "      <td>mean_cross_val_score</td>\n",
              "      <td>0.795336</td>\n",
              "    </tr>\n",
              "    <tr>\n",
              "      <th>205</th>\n",
              "      <td>8</td>\n",
              "      <td>mean_cross_val_score</td>\n",
              "      <td>0.805406</td>\n",
              "    </tr>\n",
              "    <tr>\n",
              "      <th>206</th>\n",
              "      <td>9</td>\n",
              "      <td>mean_cross_val_score</td>\n",
              "      <td>0.802045</td>\n",
              "    </tr>\n",
              "  </tbody>\n",
              "</table>\n",
              "</div>"
            ],
            "text/plain": [
              "     max_depth              set_type     score\n",
              "198          1  mean_cross_val_score  0.781961\n",
              "199          2  mean_cross_val_score  0.770196\n",
              "200          3  mean_cross_val_score  0.790322\n",
              "201          4  mean_cross_val_score  0.788627\n",
              "202          5  mean_cross_val_score  0.802073\n",
              "203          6  mean_cross_val_score  0.803754\n",
              "204          7  mean_cross_val_score  0.795336\n",
              "205          8  mean_cross_val_score  0.805406\n",
              "206          9  mean_cross_val_score  0.802045"
            ]
          },
          "execution_count": 98,
          "metadata": {},
          "output_type": "execute_result"
        }
      ]
    },
    {
      "cell_type": "code",
      "metadata": {
        "id": "97cfd930",
        "outputId": "2182f35b-279a-4cfa-e1f2-80f04ee9e0e2"
      },
      "source": [
        "scores_data_long = pd.melt(scores_data,id_vars=['max_depth'],\n",
        "                           value_vars = ['train_score','test_score','mean_cross_val_score'],\n",
        "                           var_name='set_type',\n",
        "                          value_name='score')\n",
        "scores_data_long.head()"
      ],
      "id": "97cfd930",
      "execution_count": null,
      "outputs": [
        {
          "data": {
            "text/html": [
              "<div>\n",
              "<style scoped>\n",
              "    .dataframe tbody tr th:only-of-type {\n",
              "        vertical-align: middle;\n",
              "    }\n",
              "\n",
              "    .dataframe tbody tr th {\n",
              "        vertical-align: top;\n",
              "    }\n",
              "\n",
              "    .dataframe thead th {\n",
              "        text-align: right;\n",
              "    }\n",
              "</style>\n",
              "<table border=\"1\" class=\"dataframe\">\n",
              "  <thead>\n",
              "    <tr style=\"text-align: right;\">\n",
              "      <th></th>\n",
              "      <th>max_depth</th>\n",
              "      <th>set_type</th>\n",
              "      <th>score</th>\n",
              "    </tr>\n",
              "  </thead>\n",
              "  <tbody>\n",
              "    <tr>\n",
              "      <th>0</th>\n",
              "      <td>1</td>\n",
              "      <td>train_score</td>\n",
              "      <td>0.781879</td>\n",
              "    </tr>\n",
              "    <tr>\n",
              "      <th>1</th>\n",
              "      <td>2</td>\n",
              "      <td>train_score</td>\n",
              "      <td>0.805369</td>\n",
              "    </tr>\n",
              "    <tr>\n",
              "      <th>2</th>\n",
              "      <td>3</td>\n",
              "      <td>train_score</td>\n",
              "      <td>0.823826</td>\n",
              "    </tr>\n",
              "    <tr>\n",
              "      <th>3</th>\n",
              "      <td>4</td>\n",
              "      <td>train_score</td>\n",
              "      <td>0.833893</td>\n",
              "    </tr>\n",
              "    <tr>\n",
              "      <th>4</th>\n",
              "      <td>5</td>\n",
              "      <td>train_score</td>\n",
              "      <td>0.840604</td>\n",
              "    </tr>\n",
              "  </tbody>\n",
              "</table>\n",
              "</div>"
            ],
            "text/plain": [
              "   max_depth     set_type     score\n",
              "0          1  train_score  0.781879\n",
              "1          2  train_score  0.805369\n",
              "2          3  train_score  0.823826\n",
              "3          4  train_score  0.833893\n",
              "4          5  train_score  0.840604"
            ]
          },
          "execution_count": 36,
          "metadata": {},
          "output_type": "execute_result"
        }
      ]
    },
    {
      "cell_type": "code",
      "metadata": {
        "id": "d721103a",
        "outputId": "9ae4a810-039f-4108-f743-814a5867b6da"
      },
      "source": [
        "sns.lineplot(x='max_depth', y='score', hue='set_type', data=scores_data_long)"
      ],
      "id": "d721103a",
      "execution_count": null,
      "outputs": [
        {
          "data": {
            "text/plain": [
              "<AxesSubplot:xlabel='max_depth', ylabel='score'>"
            ]
          },
          "execution_count": 35,
          "metadata": {},
          "output_type": "execute_result"
        },
        {
          "data": {
            "image/png": "[encoded data removed]",
            "text/plain": [
              "<Figure size 432x288 with 1 Axes>"
            ]
          },
          "metadata": {
            "needs_background": "light"
          },
          "output_type": "display_data"
        }
      ]
    },
    {
      "cell_type": "code",
      "metadata": {
        "id": "f521f558"
      },
      "source": [
        "iris_train = pd.read_csv('C:/Users/user/Downloads/train_iris.csv',index_col=0)\n",
        "iris_test = pd.read_csv('C:/Users/user/Downloads/test_iris.csv',index_col=0)"
      ],
      "id": "f521f558",
      "execution_count": null,
      "outputs": []
    },
    {
      "cell_type": "code",
      "metadata": {
        "id": "a21f2fae"
      },
      "source": [
        "X_iris_train = iris_train.drop(['species'],axis=1)\n",
        "y_iris_train = iris_train.species\n",
        "X_iris_test = iris_test.drop(['species'],axis=1)\n",
        "y_iris_test = iris_test.species\n",
        "max_depth_values_iris = range(1,100)"
      ],
      "id": "a21f2fae",
      "execution_count": null,
      "outputs": []
    },
    {
      "cell_type": "code",
      "metadata": {
        "scrolled": true,
        "id": "13a21ce1",
        "outputId": "71b3ff46-f462-47ad-a5eb-88fba0955197"
      },
      "source": [
        "scores_data_iris = pd.DataFrame()\n",
        "np.random.seed(0)\n",
        "for max_depth in max_depth_values_iris:\n",
        "        clfr = tree.DecisionTreeClassifier( criterion = 'entropy', max_depth=max_depth)\n",
        "        clfr.fit(X_iris_train,y_iris_train)\n",
        "        train_score_iris = clfr.score(X_iris_train,y_iris_train)\n",
        "        test_score_iris = clfr.score(X_iris_test,y_iris_test)\n",
        "        mean_cross_val_score_iris = cross_val_score(clfr,X_iris_train,y_iris_train,cv=5).mean()\n",
        "\n",
        "        temp_scores_iris = pd.DataFrame({'max_depth':[max_depth],\n",
        "                                         'train_score':[train_score_iris],\n",
        "                                         'test_score':[test_score_iris],\n",
        "                                        'mean_cross_val_score':[mean_cross_val_score_iris]})\n",
        "        scores_data_iris = scores_data_iris.append(temp_scores_iris,ignore_index=True)\n",
        "scores_data_iris_long = pd.melt(scores_data_iris,id_vars=['max_depth'],\n",
        "                           value_vars = ['train_score','test_score','mean_cross_val_score'],\n",
        "                           var_name='set_type',\n",
        "                          value_name='score')\n",
        "sns.lineplot(x='max_depth', y='score', hue='set_type',data=scores_data_iris_long, style_order=False)"
      ],
      "id": "13a21ce1",
      "execution_count": null,
      "outputs": [
        {
          "data": {
            "text/plain": [
              "<AxesSubplot:xlabel='max_depth', ylabel='score'>"
            ]
          },
          "execution_count": 97,
          "metadata": {},
          "output_type": "execute_result"
        },
        {
          "data": {
            "image/png": "[encoded data removed]",
            "text/plain": [
              "<Figure size 432x288 with 1 Axes>"
            ]
          },
          "metadata": {
            "needs_background": "light"
          },
          "output_type": "display_data"
        }
      ]
    },
    {
      "cell_type": "code",
      "metadata": {
        "id": "5fe5d4bb"
      },
      "source": [
        "animals = pd.read_csv('C:/Users/user/Downloads/dogs_n_cats.csv', index_col=0)\n",
        "animals1 = pd.read_json('C:/Users/user/Downloads/dataset_209691_15 (3).txt')"
      ],
      "id": "5fe5d4bb",
      "execution_count": null,
      "outputs": []
    },
    {
      "cell_type": "code",
      "metadata": {
        "id": "fb863e88"
      },
      "source": [
        "X_train_animals = animals.drop(['Вид'],axis=1)\n",
        "y_train_animals = animals.Вид"
      ],
      "id": "fb863e88",
      "execution_count": null,
      "outputs": []
    },
    {
      "cell_type": "code",
      "metadata": {
        "id": "ada5ae0c",
        "outputId": "b33cf945-0495-4b1c-ddf5-773bccce7f2a"
      },
      "source": [
        "scores_animals = pd.DataFrame()\n",
        "for max_depth in max_depth_values:\n",
        "    cls = tree.DecisionTreeClassifier(criterion='entropy', max_depth=2)\n",
        "    cls.fit(X_train_animals, y_train_animals)\n",
        "    score_train_animals = cls.score(X_train_animals, y_train_animals)\n",
        "    mean_cross_val_animals = cross_val_score(cls, X_train_animals,y_train_animals,cv=5).mean()\n",
        "    df = pd.DataFrame({'max_depth' :[max_depth],\n",
        "                     'train_score': [score_train_animals],\n",
        "                     'cross_score': [mean_cross_val_animals]})\n",
        "    scores_animals = scores_animals.append(df, ignore_index=True)\n",
        "scores_animals"
      ],
      "id": "ada5ae0c",
      "execution_count": null,
      "outputs": [
        {
          "data": {
            "text/html": [
              "<div>\n",
              "<style scoped>\n",
              "    .dataframe tbody tr th:only-of-type {\n",
              "        vertical-align: middle;\n",
              "    }\n",
              "\n",
              "    .dataframe tbody tr th {\n",
              "        vertical-align: top;\n",
              "    }\n",
              "\n",
              "    .dataframe thead th {\n",
              "        text-align: right;\n",
              "    }\n",
              "</style>\n",
              "<table border=\"1\" class=\"dataframe\">\n",
              "  <thead>\n",
              "    <tr style=\"text-align: right;\">\n",
              "      <th></th>\n",
              "      <th>max_depth</th>\n",
              "      <th>train_score</th>\n",
              "      <th>cross_score</th>\n",
              "    </tr>\n",
              "  </thead>\n",
              "  <tbody>\n",
              "    <tr>\n",
              "      <th>0</th>\n",
              "      <td>1</td>\n",
              "      <td>1.0</td>\n",
              "      <td>1.0</td>\n",
              "    </tr>\n",
              "    <tr>\n",
              "      <th>1</th>\n",
              "      <td>2</td>\n",
              "      <td>1.0</td>\n",
              "      <td>1.0</td>\n",
              "    </tr>\n",
              "    <tr>\n",
              "      <th>2</th>\n",
              "      <td>3</td>\n",
              "      <td>1.0</td>\n",
              "      <td>1.0</td>\n",
              "    </tr>\n",
              "    <tr>\n",
              "      <th>3</th>\n",
              "      <td>4</td>\n",
              "      <td>1.0</td>\n",
              "      <td>1.0</td>\n",
              "    </tr>\n",
              "    <tr>\n",
              "      <th>4</th>\n",
              "      <td>5</td>\n",
              "      <td>1.0</td>\n",
              "      <td>1.0</td>\n",
              "    </tr>\n",
              "    <tr>\n",
              "      <th>...</th>\n",
              "      <td>...</td>\n",
              "      <td>...</td>\n",
              "      <td>...</td>\n",
              "    </tr>\n",
              "    <tr>\n",
              "      <th>94</th>\n",
              "      <td>95</td>\n",
              "      <td>1.0</td>\n",
              "      <td>1.0</td>\n",
              "    </tr>\n",
              "    <tr>\n",
              "      <th>95</th>\n",
              "      <td>96</td>\n",
              "      <td>1.0</td>\n",
              "      <td>1.0</td>\n",
              "    </tr>\n",
              "    <tr>\n",
              "      <th>96</th>\n",
              "      <td>97</td>\n",
              "      <td>1.0</td>\n",
              "      <td>1.0</td>\n",
              "    </tr>\n",
              "    <tr>\n",
              "      <th>97</th>\n",
              "      <td>98</td>\n",
              "      <td>1.0</td>\n",
              "      <td>1.0</td>\n",
              "    </tr>\n",
              "    <tr>\n",
              "      <th>98</th>\n",
              "      <td>99</td>\n",
              "      <td>1.0</td>\n",
              "      <td>1.0</td>\n",
              "    </tr>\n",
              "  </tbody>\n",
              "</table>\n",
              "<p>99 rows × 3 columns</p>\n",
              "</div>"
            ],
            "text/plain": [
              "    max_depth  train_score  cross_score\n",
              "0           1          1.0          1.0\n",
              "1           2          1.0          1.0\n",
              "2           3          1.0          1.0\n",
              "3           4          1.0          1.0\n",
              "4           5          1.0          1.0\n",
              "..        ...          ...          ...\n",
              "94         95          1.0          1.0\n",
              "95         96          1.0          1.0\n",
              "96         97          1.0          1.0\n",
              "97         98          1.0          1.0\n",
              "98         99          1.0          1.0\n",
              "\n",
              "[99 rows x 3 columns]"
            ]
          },
          "execution_count": 205,
          "metadata": {},
          "output_type": "execute_result"
        }
      ]
    },
    {
      "cell_type": "code",
      "metadata": {
        "scrolled": true,
        "id": "1fb58dbc",
        "outputId": "06dfd7ce-89c6-4ffd-d0ff-872d3e409442"
      },
      "source": [
        "a = cls.predict(animals1.iloc[:,1:])\n",
        "l = list(a)\n",
        "l.count('собачка')"
      ],
      "id": "1fb58dbc",
      "execution_count": null,
      "outputs": [
        {
          "data": {
            "text/plain": [
              "45"
            ]
          },
          "execution_count": 208,
          "metadata": {},
          "output_type": "execute_result"
        }
      ]
    },
    {
      "cell_type": "code",
      "metadata": {
        "id": "02ebbddb"
      },
      "source": [
        ""
      ],
      "id": "02ebbddb",
      "execution_count": null,
      "outputs": []
    },
    {
      "cell_type": "code",
      "metadata": {
        "id": "4abb72c6"
      },
      "source": [
        ""
      ],
      "id": "4abb72c6",
      "execution_count": null,
      "outputs": []
    },
    {
      "cell_type": "code",
      "metadata": {
        "id": "1d9e9ee3"
      },
      "source": [
        ""
      ],
      "id": "1d9e9ee3",
      "execution_count": null,
      "outputs": []
    }
  ]
}