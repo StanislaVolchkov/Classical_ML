{
  "nbformat": 4,
  "nbformat_minor": 0,
  "metadata": {
    "colab": {
      "name": "evsrvrsv.ipynb",
      "provenance": []
    },
    "kernelspec": {
      "name": "python3",
      "display_name": "Python 3"
    },
    "language_info": {
      "name": "python"
    }
  },
  "cells": [
    {
      "cell_type": "code",
      "metadata": {
        "id": "Teh9ZY3f_i9k"
      },
      "source": [
        "xccvsvsv"
      ],
      "execution_count": null,
      "outputs": []
    }
  ]
}